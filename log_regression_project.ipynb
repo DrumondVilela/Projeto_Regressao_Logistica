{
 "cells": [
  {
   "cell_type": "markdown",
   "metadata": {},
   "source": [
    "## Projeto Regressão Logística\n",
    "### CASE: \n",
    "#### Você foi contratado por uma das principais agências de marketing para ajudá-los com a rotatividade de clientes.  Essa agência tem muitos clientes que usam seu serviço específico que produz anúncios para os clientes ou sites de clientes, e eles notam que tem um bocado de clientes em excesso e atualmente selecionam aleatoriamente gerentes de contas para cada cliente.\n",
    "#### Eles querem que você crie um modelo de aprendizado de máquina que ajudará a prever quais clientes irão parar de comprar seus produtos para que possam distribuir seus gerentes de compras de forma a ajudar os com o maior risco de deixar de usar seus produtos.\n",
    "#### Crie um algoritmo que preveja quais dos futuros clientes têm maior probabilidade de abandono para que a empresa possa distribuir seus gerentes corretamente de acordo com os dados."
   ]
  },
  {
   "cell_type": "markdown",
   "metadata": {},
   "source": [
    "##### Colunas do arquivo:\n",
    "- Name: name of the latest contact at company\n",
    "- Age: customer age\n",
    "- Total_Purchase: total ads purchased\n",
    "- Account_Manager: 0 = no manager, 1 = account manager assigned\n",
    "- Years: total years as a customer\n",
    "- Num_Sites: number of websites that use the service\n",
    "- Onboard_Date: date that the name of latest contact was onboarded\n",
    "- Location: client address\n",
    "- Company: name of client company\n",
    "- Churn: 0 or 1 indicating whether customer has churned\n",
    "---------------------------------------------------------------------"
   ]
  },
  {
   "cell_type": "markdown",
   "metadata": {},
   "source": [
    "## Importação, tratamento e visualização dos dados:"
   ]
  },
  {
   "cell_type": "code",
   "execution_count": 116,
   "metadata": {},
   "outputs": [],
   "source": [
    "from pyspark.sql import SparkSession\n",
    "from pyspark.ml.classification import LogisticRegression\n",
    "from pyspark.ml.evaluation import BinaryClassificationEvaluator\n",
    "import pyspark.sql.functions as F\n",
    "from pyspark.ml.feature import VectorAssembler "
   ]
  },
  {
   "cell_type": "code",
   "execution_count": 2,
   "metadata": {},
   "outputs": [
    {
     "data": {
      "text/html": [
       "\n",
       "            <div>\n",
       "                <p><b>SparkSession - in-memory</b></p>\n",
       "                \n",
       "        <div>\n",
       "            <p><b>SparkContext</b></p>\n",
       "\n",
       "            <p><a href=\"http://LAPTOP-LSO5BE56:4040\">Spark UI</a></p>\n",
       "\n",
       "            <dl>\n",
       "              <dt>Version</dt>\n",
       "                <dd><code>v3.2.0</code></dd>\n",
       "              <dt>Master</dt>\n",
       "                <dd><code>local[*]</code></dd>\n",
       "              <dt>AppName</dt>\n",
       "                <dd><code>Logistic Regression Project</code></dd>\n",
       "            </dl>\n",
       "        </div>\n",
       "        \n",
       "            </div>\n",
       "        "
      ],
      "text/plain": [
       "<pyspark.sql.session.SparkSession at 0x1d2e54f11c0>"
      ]
     },
     "execution_count": 2,
     "metadata": {},
     "output_type": "execute_result"
    }
   ],
   "source": [
    "spark = SparkSession\\\n",
    "    .builder\\\n",
    "    .appName('Logistic Regression Project')\\\n",
    "    .getOrCreate()\n",
    "    \n",
    "spark"
   ]
  },
  {
   "cell_type": "code",
   "execution_count": 3,
   "metadata": {},
   "outputs": [
    {
     "name": "stdout",
     "output_type": "stream",
     "text": [
      "+----------------+----+--------------+---------------+-----+---------+-------------------+--------------------+--------------------+-----+\n",
      "|           Names| Age|Total_Purchase|Account_Manager|Years|Num_Sites|       Onboard_date|            Location|             Company|Churn|\n",
      "+----------------+----+--------------+---------------+-----+---------+-------------------+--------------------+--------------------+-----+\n",
      "|Cameron Williams|42.0|       11066.8|              0| 7.22|      8.0|2013-08-30 07:00:40|10265 Elizabeth M...|          Harvey LLC|    1|\n",
      "|   Kevin Mueller|41.0|      11916.22|              0|  6.5|     11.0|2013-08-13 00:38:46|6157 Frank Garden...|          Wilson PLC|    1|\n",
      "|     Eric Lozano|38.0|      12884.75|              0| 6.67|     12.0|2016-06-29 06:20:07|1331 Keith Court ...|Miller, Johnson a...|    1|\n",
      "|   Phillip White|42.0|       8010.76|              0| 6.71|     10.0|2014-04-22 12:43:12|13120 Daniel Moun...|           Smith Inc|    1|\n",
      "|  Cynthia Norton|37.0|       9191.58|              0| 5.56|      9.0|2016-01-19 15:31:15|765 Tricia Row Ka...|          Love-Jones|    1|\n",
      "|Jessica Williams|48.0|      10356.02|              0| 5.12|      8.0|2009-03-03 23:13:37|6187 Olson Mounta...|        Kelly-Warren|    1|\n",
      "|     Eric Butler|44.0|      11331.58|              1| 5.23|     11.0|2016-12-05 03:35:43|4846 Savannah Roa...|   Reynolds-Sheppard|    1|\n",
      "|   Zachary Walsh|32.0|       9885.12|              1| 6.92|      9.0|2006-03-09 14:50:20|25271 Roy Express...|          Singh-Cole|    1|\n",
      "|     Ashlee Carr|43.0|       14062.6|              1| 5.46|     11.0|2011-09-29 05:47:23|3725 Caroline Str...|           Lopez PLC|    1|\n",
      "|  Jennifer Lynch|40.0|       8066.94|              1| 7.11|     11.0|2006-03-28 15:42:45|363 Sandra Lodge ...|       Reed-Martinez|    1|\n",
      "+----------------+----+--------------+---------------+-----+---------+-------------------+--------------------+--------------------+-----+\n",
      "only showing top 10 rows\n",
      "\n"
     ]
    }
   ],
   "source": [
    "# Atribuição dos dados ao dataframe que será utilizado na criação do modelo\n",
    "\n",
    "dados = spark\\\n",
    "    .read\\\n",
    "    .option('inferschema', 'true')\\\n",
    "    .option('header','true')\\\n",
    "    .csv('C:/Users/drumo/OneDrive/Documentos/Estudo/Programação/VSCode/Python/Datasets/customer_churn.csv')\n",
    "dados.show(10) # Verificação da saída"
   ]
  },
  {
   "cell_type": "code",
   "execution_count": 4,
   "metadata": {},
   "outputs": [
    {
     "data": {
      "text/plain": [
       "['Names',\n",
       " 'Age',\n",
       " 'Total_Purchase',\n",
       " 'Account_Manager',\n",
       " 'Years',\n",
       " 'Num_Sites',\n",
       " 'Onboard_date',\n",
       " 'Location',\n",
       " 'Company',\n",
       " 'Churn']"
      ]
     },
     "execution_count": 4,
     "metadata": {},
     "output_type": "execute_result"
    }
   ],
   "source": [
    "dados.columns   # Verificação dos nomes"
   ]
  },
  {
   "cell_type": "code",
   "execution_count": 5,
   "metadata": {},
   "outputs": [],
   "source": [
    "# Novos nomes que serão atribuídos às colunas\n",
    "\n",
    "new_names = [\n",
    "    'Nomes',\n",
    "    'Idade',\n",
    "    'Total_Comprado',\n",
    "    'Gerente_Conta',\n",
    "    'Anos',\n",
    "    'Num_Sites',\n",
    "    'Ultimo_Contato',\n",
    "    'Localidade',\n",
    "    'Companhia',\n",
    "    'Abandonou']"
   ]
  },
  {
   "cell_type": "code",
   "execution_count": 6,
   "metadata": {},
   "outputs": [
    {
     "name": "stdout",
     "output_type": "stream",
     "text": [
      "+----------------+-----+--------------+-------------+----+---------+-------------------+--------------------+--------------------+---------+\n",
      "|           Nomes|Idade|Total_Comprado|Gerente_Conta|Anos|Num_Sites|     Ultimo_Contato|          Localidade|           Companhia|Abandonou|\n",
      "+----------------+-----+--------------+-------------+----+---------+-------------------+--------------------+--------------------+---------+\n",
      "|Cameron Williams| 42.0|       11066.8|            0|7.22|      8.0|2013-08-30 07:00:40|10265 Elizabeth M...|          Harvey LLC|        1|\n",
      "|   Kevin Mueller| 41.0|      11916.22|            0| 6.5|     11.0|2013-08-13 00:38:46|6157 Frank Garden...|          Wilson PLC|        1|\n",
      "|     Eric Lozano| 38.0|      12884.75|            0|6.67|     12.0|2016-06-29 06:20:07|1331 Keith Court ...|Miller, Johnson a...|        1|\n",
      "|   Phillip White| 42.0|       8010.76|            0|6.71|     10.0|2014-04-22 12:43:12|13120 Daniel Moun...|           Smith Inc|        1|\n",
      "|  Cynthia Norton| 37.0|       9191.58|            0|5.56|      9.0|2016-01-19 15:31:15|765 Tricia Row Ka...|          Love-Jones|        1|\n",
      "+----------------+-----+--------------+-------------+----+---------+-------------------+--------------------+--------------------+---------+\n",
      "only showing top 5 rows\n",
      "\n"
     ]
    }
   ],
   "source": [
    "dados = dados.toDF(* new_names)    # Atribuição dos novos nomes\n",
    "dados.show(5)"
   ]
  },
  {
   "cell_type": "code",
   "execution_count": 113,
   "metadata": {},
   "outputs": [
    {
     "name": "stdout",
     "output_type": "stream",
     "text": [
      "+------------------+--------------+---------+\n",
      "|             Nomes|Total_Comprado|Num_Sites|\n",
      "+------------------+--------------+---------+\n",
      "|     Ethan Cordova|      18026.01|      9.0|\n",
      "|      Kevin Powell|      16955.76|      8.0|\n",
      "|        Eric Terry|      16371.42|     10.0|\n",
      "|      Holly Flores|      15878.11|      8.0|\n",
      "|   Darin Alexander|      15858.91|      8.0|\n",
      "|  Michael Williams|      15571.26|      9.0|\n",
      "|     Kenneth James|      15516.52|     10.0|\n",
      "|Catherine Johnston|      15509.97|      8.0|\n",
      "|      Katie Wagner|      15423.03|      7.0|\n",
      "|    Brandon Hunter|      15188.65|      8.0|\n",
      "+------------------+--------------+---------+\n",
      "only showing top 10 rows\n",
      "\n"
     ]
    }
   ],
   "source": [
    "# Consulta das dez empresas que não abandonaram a agência com maior valor de gastos com a agência e o número de sites\n",
    "\n",
    "dados.select('Nomes','Total_Comprado', 'Num_Sites').filter(F.col('Abandonou') == 0).orderBy('Total_Comprado', ascending=False).show(10)"
   ]
  },
  {
   "cell_type": "code",
   "execution_count": 114,
   "metadata": {},
   "outputs": [
    {
     "name": "stdout",
     "output_type": "stream",
     "text": [
      "+---------------+--------------+---------+\n",
      "|          Nomes|Total_Comprado|Num_Sites|\n",
      "+---------------+--------------+---------+\n",
      "| Jason Jones MD|      16838.94|      8.0|\n",
      "| Monique Medina|      15005.43|     12.0|\n",
      "|Samantha Fisher|      14693.45|     10.0|\n",
      "| Hailey Sanchez|      14429.41|     11.0|\n",
      "|  Jacob Escobar|      14398.89|     12.0|\n",
      "|  Kelly Carroll|      14383.36|     10.0|\n",
      "|    Ashlee Carr|       14062.6|     11.0|\n",
      "|   Shawn Chavez|      14036.28|     10.0|\n",
      "|   Carla Howell|      13743.27|     11.0|\n",
      "|  Kathryn Ponce|      13725.55|      9.0|\n",
      "+---------------+--------------+---------+\n",
      "only showing top 10 rows\n",
      "\n"
     ]
    }
   ],
   "source": [
    "# Consulta das dez empresas que abandonaram a agência com maior valor de gastos com a agência e o número de sites\n",
    "\n",
    "dados.select('Nomes','Total_Comprado', 'Num_Sites').filter(F.col('Abandonou') == 1).orderBy('Total_Comprado', ascending=False).show(10)"
   ]
  },
  {
   "cell_type": "markdown",
   "metadata": {},
   "source": [
    "#### Colunas de interesse que serão trabalhadas:\n",
    "- Idade;\n",
    "- Total_Comprado;\n",
    "- Gerente_Conta;\n",
    "- Anos;\n",
    "- Num_Sites;\n",
    "- Ultimo_Contato;\n",
    "- Localidade;\n",
    "- Abandonou"
   ]
  },
  {
   "cell_type": "code",
   "execution_count": 9,
   "metadata": {},
   "outputs": [
    {
     "name": "stdout",
     "output_type": "stream",
     "text": [
      "+-----+--------------+-------------+----+---------+-------------------+--------------------+---------+\n",
      "|Idade|Total_Comprado|Gerente_Conta|Anos|Num_Sites|     Ultimo_Contato|          Localidade|Abandonou|\n",
      "+-----+--------------+-------------+----+---------+-------------------+--------------------+---------+\n",
      "| 42.0|       11066.8|            0|7.22|      8.0|2013-08-30 07:00:40|10265 Elizabeth M...|        1|\n",
      "| 41.0|      11916.22|            0| 6.5|     11.0|2013-08-13 00:38:46|6157 Frank Garden...|        1|\n",
      "| 38.0|      12884.75|            0|6.67|     12.0|2016-06-29 06:20:07|1331 Keith Court ...|        1|\n",
      "| 42.0|       8010.76|            0|6.71|     10.0|2014-04-22 12:43:12|13120 Daniel Moun...|        1|\n",
      "| 37.0|       9191.58|            0|5.56|      9.0|2016-01-19 15:31:15|765 Tricia Row Ka...|        1|\n",
      "| 48.0|      10356.02|            0|5.12|      8.0|2009-03-03 23:13:37|6187 Olson Mounta...|        1|\n",
      "| 44.0|      11331.58|            1|5.23|     11.0|2016-12-05 03:35:43|4846 Savannah Roa...|        1|\n",
      "| 32.0|       9885.12|            1|6.92|      9.0|2006-03-09 14:50:20|25271 Roy Express...|        1|\n",
      "| 43.0|       14062.6|            1|5.46|     11.0|2011-09-29 05:47:23|3725 Caroline Str...|        1|\n",
      "| 40.0|       8066.94|            1|7.11|     11.0|2006-03-28 15:42:45|363 Sandra Lodge ...|        1|\n",
      "+-----+--------------+-------------+----+---------+-------------------+--------------------+---------+\n",
      "only showing top 10 rows\n",
      "\n"
     ]
    }
   ],
   "source": [
    "# Atribuição das colunas de interesse a um novo dataframe, no qual serão feitas as manipulações\n",
    "\n",
    "dados_selec = dados.select([\n",
    "    'Idade',\n",
    "    'Total_Comprado',\n",
    "    'Gerente_Conta',\n",
    "    'Anos',\n",
    "    'Num_Sites',\n",
    "    'Ultimo_Contato',\n",
    "    'Localidade',\n",
    "    'Abandonou'])\n",
    "\n",
    "dados_selec.show(10)"
   ]
  },
  {
   "cell_type": "code",
   "execution_count": 10,
   "metadata": {},
   "outputs": [
    {
     "name": "stdout",
     "output_type": "stream",
     "text": [
      "Número de valores nulos encontrados: 0\n"
     ]
    }
   ],
   "source": [
    "# Verificação da ocorrência de valores nulos no dataframe\n",
    "\n",
    "for i in dados_selec.columns:\n",
    "    k = 0\n",
    "    k += dados_selec.filter(F.col(f\"{i}\").isNull()).count()\n",
    "\n",
    "print(f'Número de valores nulos encontrados: {k}')"
   ]
  },
  {
   "cell_type": "code",
   "execution_count": 11,
   "metadata": {},
   "outputs": [
    {
     "name": "stdout",
     "output_type": "stream",
     "text": [
      "root\n",
      " |-- Idade: double (nullable = true)\n",
      " |-- Total_Comprado: double (nullable = true)\n",
      " |-- Gerente_Conta: integer (nullable = true)\n",
      " |-- Anos: double (nullable = true)\n",
      " |-- Num_Sites: double (nullable = true)\n",
      " |-- Ultimo_Contato: string (nullable = true)\n",
      " |-- Localidade: string (nullable = true)\n",
      " |-- Abandonou: integer (nullable = true)\n",
      "\n"
     ]
    }
   ],
   "source": [
    "dados_selec.printSchema() # Verificação do esquema do dataframe"
   ]
  },
  {
   "cell_type": "code",
   "execution_count": 61,
   "metadata": {},
   "outputs": [],
   "source": [
    "# Criação da coluna \"features\", a qual será feita a partir da vetorização dos valores das demais colunas de input\n",
    "\n",
    "assembler = VectorAssembler(\n",
    "    inputCols=['Idade', 'Total_Comprado', 'Gerente_Conta', 'Anos', 'Num_Sites'],\n",
    "    outputCol='features')"
   ]
  },
  {
   "cell_type": "code",
   "execution_count": 117,
   "metadata": {},
   "outputs": [
    {
     "name": "stdout",
     "output_type": "stream",
     "text": [
      "+-----+--------------+-------------+----+---------+-------------------+--------------------+---------+--------------------+\n",
      "|Idade|Total_Comprado|Gerente_Conta|Anos|Num_Sites|     Ultimo_Contato|          Localidade|Abandonou|            features|\n",
      "+-----+--------------+-------------+----+---------+-------------------+--------------------+---------+--------------------+\n",
      "| 42.0|       11066.8|            0|7.22|      8.0|2013-08-30 07:00:40|10265 Elizabeth M...|        1|[42.0,11066.8,0.0...|\n",
      "| 41.0|      11916.22|            0| 6.5|     11.0|2013-08-13 00:38:46|6157 Frank Garden...|        1|[41.0,11916.22,0....|\n",
      "| 38.0|      12884.75|            0|6.67|     12.0|2016-06-29 06:20:07|1331 Keith Court ...|        1|[38.0,12884.75,0....|\n",
      "| 42.0|       8010.76|            0|6.71|     10.0|2014-04-22 12:43:12|13120 Daniel Moun...|        1|[42.0,8010.76,0.0...|\n",
      "| 37.0|       9191.58|            0|5.56|      9.0|2016-01-19 15:31:15|765 Tricia Row Ka...|        1|[37.0,9191.58,0.0...|\n",
      "| 48.0|      10356.02|            0|5.12|      8.0|2009-03-03 23:13:37|6187 Olson Mounta...|        1|[48.0,10356.02,0....|\n",
      "| 44.0|      11331.58|            1|5.23|     11.0|2016-12-05 03:35:43|4846 Savannah Roa...|        1|[44.0,11331.58,1....|\n",
      "| 32.0|       9885.12|            1|6.92|      9.0|2006-03-09 14:50:20|25271 Roy Express...|        1|[32.0,9885.12,1.0...|\n",
      "| 43.0|       14062.6|            1|5.46|     11.0|2011-09-29 05:47:23|3725 Caroline Str...|        1|[43.0,14062.6,1.0...|\n",
      "| 40.0|       8066.94|            1|7.11|     11.0|2006-03-28 15:42:45|363 Sandra Lodge ...|        1|[40.0,8066.94,1.0...|\n",
      "+-----+--------------+-------------+----+---------+-------------------+--------------------+---------+--------------------+\n",
      "only showing top 10 rows\n",
      "\n"
     ]
    }
   ],
   "source": [
    "resultados = assembler.transform(dados_selec)\n",
    "resultados.show(10)"
   ]
  },
  {
   "cell_type": "code",
   "execution_count": 64,
   "metadata": {},
   "outputs": [
    {
     "name": "stdout",
     "output_type": "stream",
     "text": [
      "+--------------------+---------+\n",
      "|            features|Abandonou|\n",
      "+--------------------+---------+\n",
      "|[42.0,11066.8,0.0...|        1|\n",
      "|[41.0,11916.22,0....|        1|\n",
      "|[38.0,12884.75,0....|        1|\n",
      "|[42.0,8010.76,0.0...|        1|\n",
      "|[37.0,9191.58,0.0...|        1|\n",
      "|[48.0,10356.02,0....|        1|\n",
      "|[44.0,11331.58,1....|        1|\n",
      "|[32.0,9885.12,1.0...|        1|\n",
      "|[43.0,14062.6,1.0...|        1|\n",
      "|[40.0,8066.94,1.0...|        1|\n",
      "|[30.0,11575.37,1....|        1|\n",
      "|[45.0,8771.02,1.0...|        1|\n",
      "|[45.0,8988.67,1.0...|        1|\n",
      "|[40.0,8283.32,1.0...|        1|\n",
      "|[41.0,6569.87,1.0...|        1|\n",
      "|[38.0,10494.82,1....|        1|\n",
      "|[45.0,8213.41,1.0...|        1|\n",
      "|[43.0,11226.88,0....|        1|\n",
      "|[53.0,5515.09,0.0...|        1|\n",
      "|[46.0,8046.4,1.0,...|        1|\n",
      "+--------------------+---------+\n",
      "only showing top 20 rows\n",
      "\n"
     ]
    }
   ],
   "source": [
    "# Atribuição das colunas necessárias ao modelo a um novo dataframe e sua visualização\n",
    "\n",
    "dados_finais = resultados.select('features','Abandonou')\n",
    "dados_finais.show()"
   ]
  },
  {
   "cell_type": "code",
   "execution_count": 67,
   "metadata": {},
   "outputs": [],
   "source": [
    "dados_treino, dados_teste = dados_finais.randomSplit([0.75, 0.25]) # Separação dos valores de treino e teste (Treino: 75%; Teste:25%)"
   ]
  },
  {
   "cell_type": "markdown",
   "metadata": {},
   "source": [
    "-----------------------------------------------\n",
    "## Criação, treinamento e teste do modelo de regressão:"
   ]
  },
  {
   "cell_type": "code",
   "execution_count": 65,
   "metadata": {},
   "outputs": [],
   "source": [
    "reg_log = LogisticRegression(labelCol='Abandonou') # Instanciamento do modelo de regressão logística\n"
   ]
  },
  {
   "cell_type": "code",
   "execution_count": 68,
   "metadata": {},
   "outputs": [],
   "source": [
    "modelo_ajustado = reg_log.fit(dados_treino) # Treinamento do modelo"
   ]
  },
  {
   "cell_type": "code",
   "execution_count": 69,
   "metadata": {},
   "outputs": [],
   "source": [
    "sumario_treinamento = modelo_ajustado.summary"
   ]
  },
  {
   "cell_type": "code",
   "execution_count": 74,
   "metadata": {},
   "outputs": [
    {
     "name": "stdout",
     "output_type": "stream",
     "text": [
      "+-------+-------------------+-------------------+\n",
      "|summary|          Abandonou|         prediction|\n",
      "+-------+-------------------+-------------------+\n",
      "|  count|                685|                685|\n",
      "|   mean|0.17372262773722627|0.13138686131386862|\n",
      "| stddev| 0.3791476422820743|0.33806981891127397|\n",
      "|    min|                0.0|                0.0|\n",
      "|    max|                1.0|                1.0|\n",
      "+-------+-------------------+-------------------+\n",
      "\n"
     ]
    }
   ],
   "source": [
    "sumario_treinamento.predictions.describe().show() # Verificação dos dados de treinamento para possíveis fins estatísticos"
   ]
  },
  {
   "cell_type": "code",
   "execution_count": 75,
   "metadata": {},
   "outputs": [],
   "source": [
    "predicoes = modelo_ajustado.evaluate(dados_teste) # Teste do modelo"
   ]
  },
  {
   "cell_type": "code",
   "execution_count": 79,
   "metadata": {},
   "outputs": [
    {
     "name": "stdout",
     "output_type": "stream",
     "text": [
      "+--------------------+---------+--------------------+--------------------+----------+\n",
      "|            features|Abandonou|       rawPrediction|         probability|prediction|\n",
      "+--------------------+---------+--------------------+--------------------+----------+\n",
      "|[26.0,8787.39,1.0...|        1|[0.53687730018387...|[0.63108569963774...|       0.0|\n",
      "|[28.0,11128.95,1....|        0|[4.33108365093400...|[0.98701747665164...|       0.0|\n",
      "|[28.0,11245.38,0....|        0|[3.74431169367081...|[0.97689458386493...|       0.0|\n",
      "|[29.0,8688.17,1.0...|        1|[2.70053029922414...|[0.93705792843608...|       0.0|\n",
      "|[29.0,11274.46,1....|        0|[4.67597842615127...|[0.99076958898738...|       0.0|\n",
      "|[29.0,12711.15,0....|        0|[5.50168851635392...|[0.99593670107786...|       0.0|\n",
      "|[30.0,8403.78,1.0...|        0|[6.11565456096835...|[0.99779683464916...|       0.0|\n",
      "|[30.0,8874.83,0.0...|        0|[3.09202648526360...|[0.95656264457325...|       0.0|\n",
      "|[31.0,5304.6,0.0,...|        0|[3.26257196892406...|[0.96312225022351...|       0.0|\n",
      "|[31.0,5387.75,0.0...|        0|[2.33419929012810...|[0.91167008120394...|       0.0|\n",
      "|[31.0,7073.61,0.0...|        0|[2.96051523213041...|[0.95075812120138...|       0.0|\n",
      "|[31.0,10058.87,1....|        0|[4.56344017656168...|[0.98968145305539...|       0.0|\n",
      "|[31.0,11743.24,0....|        0|[6.91826342260535...|[0.99901143136096...|       0.0|\n",
      "|[32.0,8575.71,0.0...|        0|[3.74612603986846...|[0.97693550106661...|       0.0|\n",
      "|[32.0,12254.75,1....|        0|[2.65232769325158...|[0.93415431177143...|       0.0|\n",
      "|[33.0,7720.61,1.0...|        0|[1.62550495537179...|[0.83555293186416...|       0.0|\n",
      "|[33.0,7750.54,1.0...|        0|[4.39722029710649...|[0.98783821525583...|       0.0|\n",
      "|[33.0,10309.71,1....|        0|[6.57781861569979...|[0.99861105182837...|       0.0|\n",
      "|[33.0,12249.96,0....|        0|[5.64947021457238...|[0.99649296180511...|       0.0|\n",
      "|[33.0,12638.51,1....|        0|[4.02938466310725...|[0.98252551787151...|       0.0|\n",
      "+--------------------+---------+--------------------+--------------------+----------+\n",
      "only showing top 20 rows\n",
      "\n"
     ]
    }
   ],
   "source": [
    "predicoes.predictions.show()"
   ]
  },
  {
   "cell_type": "code",
   "execution_count": 80,
   "metadata": {},
   "outputs": [],
   "source": [
    "# Avaliação binária do modelo obtido \n",
    "avaliacao = BinaryClassificationEvaluator(rawPredictionCol='prediction', labelCol='Abandonou')"
   ]
  },
  {
   "cell_type": "code",
   "execution_count": 119,
   "metadata": {},
   "outputs": [
    {
     "name": "stdout",
     "output_type": "stream",
     "text": [
      "Taxa de assertividade do modelo: 80.61%\n"
     ]
    }
   ],
   "source": [
    "AUC = avaliacao.evaluate(predicoes.predictions) # AUC = 0.8061009817671809\n",
    "print(f'Taxa de assertividade do modelo: {AUC*100:.2f}%')"
   ]
  },
  {
   "cell_type": "markdown",
   "metadata": {},
   "source": [
    "---------------------------------------------------\n",
    "## Verificando a assertividade do modelo com novos dados de entrada"
   ]
  },
  {
   "cell_type": "code",
   "execution_count": 91,
   "metadata": {},
   "outputs": [],
   "source": [
    "modelo_final = reg_log.fit(dados_finais) # Treinamento do modelo a partir dos dados finais "
   ]
  },
  {
   "cell_type": "code",
   "execution_count": 93,
   "metadata": {},
   "outputs": [
    {
     "name": "stdout",
     "output_type": "stream",
     "text": [
      "+--------------+----+--------------+---------------+-----+---------+-------------------+--------------------+----------------+\n",
      "|         Names| Age|Total_Purchase|Account_Manager|Years|Num_Sites|       Onboard_date|            Location|         Company|\n",
      "+--------------+----+--------------+---------------+-----+---------+-------------------+--------------------+----------------+\n",
      "| Andrew Mccall|37.0|       9935.53|              1| 7.71|      8.0|2011-08-29 18:37:54|38612 Johnny Stra...|        King Ltd|\n",
      "|Michele Wright|23.0|       7526.94|              1| 9.28|     15.0|2013-07-22 18:19:54|21083 Nicole Junc...|   Cannon-Benson|\n",
      "|  Jeremy Chang|65.0|         100.0|              1|  1.0|     15.0|2006-12-11 07:48:13|085 Austin Views ...|Barron-Robertson|\n",
      "|Megan Ferguson|32.0|        6487.5|              0|  9.4|     14.0|2016-10-28 05:32:13|922 Wright Branch...|   Sexton-Golden|\n",
      "|  Taylor Young|32.0|      13147.71|              1| 10.0|      8.0|2012-03-20 00:36:46|Unit 0789 Box 073...|        Wood LLC|\n",
      "| Jessica Drake|22.0|       8445.26|              1| 3.46|     14.0|2011-02-04 19:29:27|1148 Tina Straven...|   Parks-Robbins|\n",
      "+--------------+----+--------------+---------------+-----+---------+-------------------+--------------------+----------------+\n",
      "\n"
     ]
    }
   ],
   "source": [
    "# Importação dos novos dados para teste\n",
    "\n",
    "novos_clientes = spark\\\n",
    "    .read\\\n",
    "        .option('inferschema','true')\\\n",
    "        .option('header','true')\\\n",
    "        .csv('C:/Users/drumo/OneDrive/Documentos/Estudo/Programação/VSCode/Python/Datasets/new_customers.csv')\n",
    "novos_clientes.show(10)"
   ]
  },
  {
   "cell_type": "code",
   "execution_count": 94,
   "metadata": {},
   "outputs": [
    {
     "name": "stdout",
     "output_type": "stream",
     "text": [
      "root\n",
      " |-- Names: string (nullable = true)\n",
      " |-- Age: double (nullable = true)\n",
      " |-- Total_Purchase: double (nullable = true)\n",
      " |-- Account_Manager: integer (nullable = true)\n",
      " |-- Years: double (nullable = true)\n",
      " |-- Num_Sites: double (nullable = true)\n",
      " |-- Onboard_date: string (nullable = true)\n",
      " |-- Location: string (nullable = true)\n",
      " |-- Company: string (nullable = true)\n",
      "\n"
     ]
    }
   ],
   "source": [
    "novos_clientes.printSchema()"
   ]
  },
  {
   "cell_type": "code",
   "execution_count": 101,
   "metadata": {},
   "outputs": [],
   "source": [
    "new_names = [\n",
    "    'Nomes',\n",
    "    'Idade',\n",
    "    'Total_Comprado',\n",
    "    'Gerente_Conta',\n",
    "    'Anos',\n",
    "    'Num_Sites',\n",
    "    'Ultimo_Contato',\n",
    "    'Localidade',\n",
    "    'Companhia'\n",
    "]"
   ]
  },
  {
   "cell_type": "code",
   "execution_count": 102,
   "metadata": {},
   "outputs": [
    {
     "name": "stdout",
     "output_type": "stream",
     "text": [
      "root\n",
      " |-- Nomes: string (nullable = true)\n",
      " |-- Idade: double (nullable = true)\n",
      " |-- Total_Comprado: double (nullable = true)\n",
      " |-- Gerente_Conta: integer (nullable = true)\n",
      " |-- Anos: double (nullable = true)\n",
      " |-- Num_Sites: double (nullable = true)\n",
      " |-- Ultimo_Contato: string (nullable = true)\n",
      " |-- Localidade: string (nullable = true)\n",
      " |-- Companhia: string (nullable = true)\n",
      "\n"
     ]
    }
   ],
   "source": [
    "# Atribuição dos novos nomes das colunas\n",
    "\n",
    "novos_clientes = novos_clientes.toDF(*new_names)\n",
    "novos_clientes.printSchema()"
   ]
  },
  {
   "cell_type": "code",
   "execution_count": 103,
   "metadata": {},
   "outputs": [],
   "source": [
    "teste_novos_clientes = assembler.transform(novos_clientes)"
   ]
  },
  {
   "cell_type": "code",
   "execution_count": 105,
   "metadata": {},
   "outputs": [],
   "source": [
    "resultados_finais = modelo_final.transform(teste_novos_clientes) # Teste final da predição"
   ]
  },
  {
   "cell_type": "code",
   "execution_count": 106,
   "metadata": {},
   "outputs": [
    {
     "name": "stdout",
     "output_type": "stream",
     "text": [
      "+----------------+----------+\n",
      "|       Companhia|prediction|\n",
      "+----------------+----------+\n",
      "|        King Ltd|       0.0|\n",
      "|   Cannon-Benson|       1.0|\n",
      "|Barron-Robertson|       1.0|\n",
      "|   Sexton-Golden|       1.0|\n",
      "|        Wood LLC|       0.0|\n",
      "|   Parks-Robbins|       1.0|\n",
      "+----------------+----------+\n",
      "\n"
     ]
    }
   ],
   "source": [
    "resultados_finais.select('Companhia','prediction').show() # Verificação dos resultados da predição"
   ]
  },
  {
   "cell_type": "markdown",
   "metadata": {},
   "source": [
    "## As empresas com maior probabilidade de abandonar a agência de marketing são:\n",
    "### Cannon-Benson;\n",
    "### Barron-Robertson;\n",
    "### Sexton-Golden;\n",
    "### Parks-Robbins."
   ]
  }
 ],
 "metadata": {
  "interpreter": {
   "hash": "f79e04e549d72e96c4fa9edf3b3a4d8bcc8ad43ae671365b37c194f89344cae7"
  },
  "kernelspec": {
   "display_name": "Python 3.9.2 64-bit",
   "language": "python",
   "name": "python3"
  },
  "language_info": {
   "codemirror_mode": {
    "name": "ipython",
    "version": 3
   },
   "file_extension": ".py",
   "mimetype": "text/x-python",
   "name": "python",
   "nbconvert_exporter": "python",
   "pygments_lexer": "ipython3",
   "version": "3.9.2"
  },
  "orig_nbformat": 4
 },
 "nbformat": 4,
 "nbformat_minor": 2
}
